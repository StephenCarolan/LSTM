{
 "cells": [
  {
   "cell_type": "code",
   "execution_count": 1,
   "id": "superb-diesel",
   "metadata": {},
   "outputs": [],
   "source": [
    "#Cryptocurrency to examine: BTC to USD from the bitsamp exchange\n",
    "from_symbol = 'BTC'\n",
    "to_symbol = 'USD'\n",
    "exchange = 'Bitstamp'\n",
    "datetime_interval = 'hour'"
   ]
  },
  {
   "cell_type": "code",
   "execution_count": 2,
   "id": "cross-connectivity",
   "metadata": {
    "scrolled": true
   },
   "outputs": [
    {
     "name": "stdout",
     "output_type": "stream",
     "text": [
      "Downloading hour trading data for BTC USD from Bitstamp\n",
      "Saving data to BTC_USD_Bitstamp_hour_2021-04-18.csv\n"
     ]
    }
   ],
   "source": [
    "import requests\n",
    "import pandas as pd\n",
    "from datetime import datetime\n",
    "pd.options.mode.chained_assignment = None\n",
    "\n",
    "#Create Filename for data\n",
    "def create_filename(from_symbol, to_symbol, exchange, datetime_interval, download_date):\n",
    "    return '%s_%s_%s_%s_%s.csv' % (from_symbol, to_symbol, exchange, datetime_interval, download_date)\n",
    "\n",
    "#Get the data from cryptocompare.com\n",
    "def download_data(from_symbol, to_symbol, exchange, datetime_interval):\n",
    "    supported_intervals = {'minute', 'hour', 'day'}\n",
    "    assert datetime_interval in supported_intervals,\\\n",
    "        'datetime_interval should be one of %s' % supported_intervals\n",
    "    print('Downloading %s trading data for %s %s from %s' %\n",
    "          (datetime_interval, from_symbol, to_symbol, exchange))\n",
    "    base_url = 'https://min-api.cryptocompare.com/data/histo'\n",
    "    url = '%s%s' % (base_url, datetime_interval)\n",
    "    params = {'fsym': from_symbol, 'tsym': to_symbol,\n",
    "              'limit': 2000, 'aggregate': 1,\n",
    "              'e': exchange}\n",
    "    request = requests.get(url, params=params)\n",
    "    data = request.json()\n",
    "    return data\n",
    "\n",
    "#Convert to a pandas dataframe\n",
    "def convert_to_dataframe(data):\n",
    "    df = pd.json_normalize(data, ['Data'])\n",
    "    df['datetime'] = pd.to_datetime(df.time, unit='s')\n",
    "    df = df[['datetime', 'low', 'high', 'open',\n",
    "             'close', 'volumefrom', 'volumeto']]\n",
    "    return df\n",
    "\n",
    "data = download_data(from_symbol, to_symbol, exchange, datetime_interval)\n",
    "df = convert_to_dataframe(data)\n",
    "\n",
    "current_datetime = datetime.now().date().isoformat()\n",
    "filename = create_filename(from_symbol, to_symbol, exchange, datetime_interval, current_datetime)\n",
    "print('Saving data to %s' % filename)\n",
    "df.to_csv(filename, index=False)"
   ]
  },
  {
   "cell_type": "code",
   "execution_count": 3,
   "id": "geographic-vertex",
   "metadata": {},
   "outputs": [
    {
     "data": {
      "text/html": [
       "<div>\n",
       "<style scoped>\n",
       "    .dataframe tbody tr th:only-of-type {\n",
       "        vertical-align: middle;\n",
       "    }\n",
       "\n",
       "    .dataframe tbody tr th {\n",
       "        vertical-align: top;\n",
       "    }\n",
       "\n",
       "    .dataframe thead th {\n",
       "        text-align: right;\n",
       "    }\n",
       "</style>\n",
       "<table border=\"1\" class=\"dataframe\">\n",
       "  <thead>\n",
       "    <tr style=\"text-align: right;\">\n",
       "      <th></th>\n",
       "      <th>datetime</th>\n",
       "      <th>low</th>\n",
       "      <th>high</th>\n",
       "      <th>open</th>\n",
       "      <th>close</th>\n",
       "      <th>volumefrom</th>\n",
       "      <th>volumeto</th>\n",
       "    </tr>\n",
       "  </thead>\n",
       "  <tbody>\n",
       "    <tr>\n",
       "      <th>1996</th>\n",
       "      <td>2021-04-18 10:00:00</td>\n",
       "      <td>54611.49</td>\n",
       "      <td>55529.83</td>\n",
       "      <td>55114.57</td>\n",
       "      <td>54771.50</td>\n",
       "      <td>520.13</td>\n",
       "      <td>28661448.56</td>\n",
       "    </tr>\n",
       "    <tr>\n",
       "      <th>1997</th>\n",
       "      <td>2021-04-18 11:00:00</td>\n",
       "      <td>53123.00</td>\n",
       "      <td>55197.77</td>\n",
       "      <td>54771.50</td>\n",
       "      <td>53314.83</td>\n",
       "      <td>444.76</td>\n",
       "      <td>24049805.90</td>\n",
       "    </tr>\n",
       "    <tr>\n",
       "      <th>1998</th>\n",
       "      <td>2021-04-18 12:00:00</td>\n",
       "      <td>53314.83</td>\n",
       "      <td>55159.09</td>\n",
       "      <td>53314.83</td>\n",
       "      <td>55058.62</td>\n",
       "      <td>901.70</td>\n",
       "      <td>49183080.34</td>\n",
       "    </tr>\n",
       "    <tr>\n",
       "      <th>1999</th>\n",
       "      <td>2021-04-18 13:00:00</td>\n",
       "      <td>54761.56</td>\n",
       "      <td>55436.15</td>\n",
       "      <td>55058.62</td>\n",
       "      <td>55267.33</td>\n",
       "      <td>627.99</td>\n",
       "      <td>34633289.38</td>\n",
       "    </tr>\n",
       "    <tr>\n",
       "      <th>2000</th>\n",
       "      <td>2021-04-18 14:00:00</td>\n",
       "      <td>55133.31</td>\n",
       "      <td>55900.00</td>\n",
       "      <td>55267.33</td>\n",
       "      <td>55802.88</td>\n",
       "      <td>193.44</td>\n",
       "      <td>10731302.65</td>\n",
       "    </tr>\n",
       "  </tbody>\n",
       "</table>\n",
       "</div>"
      ],
      "text/plain": [
       "                datetime       low      high      open     close  volumefrom  \\\n",
       "1996 2021-04-18 10:00:00  54611.49  55529.83  55114.57  54771.50      520.13   \n",
       "1997 2021-04-18 11:00:00  53123.00  55197.77  54771.50  53314.83      444.76   \n",
       "1998 2021-04-18 12:00:00  53314.83  55159.09  53314.83  55058.62      901.70   \n",
       "1999 2021-04-18 13:00:00  54761.56  55436.15  55058.62  55267.33      627.99   \n",
       "2000 2021-04-18 14:00:00  55133.31  55900.00  55267.33  55802.88      193.44   \n",
       "\n",
       "         volumeto  \n",
       "1996  28661448.56  \n",
       "1997  24049805.90  \n",
       "1998  49183080.34  \n",
       "1999  34633289.38  \n",
       "2000  10731302.65  "
      ]
     },
     "execution_count": 3,
     "metadata": {},
     "output_type": "execute_result"
    }
   ],
   "source": [
    "df.tail()"
   ]
  },
  {
   "cell_type": "code",
   "execution_count": 4,
   "id": "distinct-times",
   "metadata": {
    "scrolled": true
   },
   "outputs": [],
   "source": [
    "#importing required libraries\n",
    "from sklearn.preprocessing import MinMaxScaler\n",
    "from tensorflow.keras.models import Sequential\n",
    "from tensorflow.keras.layers import Dense, Dropout, LSTM, Activation\n",
    "import numpy as np\n",
    "\n",
    "#creating new dataframe with just the datetime and closing value\n",
    "data = df.sort_index(ascending=True, axis=0)\n",
    "new_data = pd.DataFrame(index=range(0,len(df)),columns=['datetime', 'close'])\n",
    "\n",
    "for i in range(0,len(data)):\n",
    "    new_data['datetime'][i] = data['datetime'][i]\n",
    "    new_data['close'][i] = data['close'][i]\n",
    "\n",
    "#index the new dataframe with the datetime\n",
    "new_data.index = new_data.datetime\n",
    "new_data.drop('datetime', axis=1, inplace=True)\n",
    "\n",
    "#creating train and test sets, split 80%-20%\n",
    "dataset = new_data.values\n",
    "train = dataset[:int(0.8*len(dataset)),:]\n",
    "valid = dataset[int(0.8*len(dataset)):,:]\n",
    "\n",
    "#Normalise from 0 to 1\n",
    "scaler = MinMaxScaler(feature_range=(0, 1))\n",
    "scaled_data = scaler.fit_transform(dataset)\n",
    "\n",
    "#x_train will be 60 values in the series, y_train will be the 61st value\n",
    "x_train, y_train = [], []\n",
    "for i in range(60,len(train)):\n",
    "    x_train.append(scaled_data[i-60:i,0])\n",
    "    y_train.append(scaled_data[i,0])\n",
    "x_train, y_train = np.array(x_train), np.array(y_train)\n",
    "\n",
    "#reshape x_train for the LSTM\n",
    "x_train = np.reshape(x_train, (x_train.shape[0],x_train.shape[1],1))"
   ]
  },
  {
   "cell_type": "code",
   "execution_count": 5,
   "id": "hidden-semester",
   "metadata": {},
   "outputs": [],
   "source": [
    "#Create the test data with the same setup\n",
    "inputs = new_data[len(new_data) - len(valid) - 60:].values\n",
    "inputs = inputs.reshape(-1,1)\n",
    "inputs  = scaler.transform(inputs)\n",
    "\n",
    "X_test = []\n",
    "Y_test = []\n",
    "for i in range(60,inputs.shape[0]):\n",
    "    X_test.append(inputs[i-60:i,0])\n",
    "    Y_test.append(inputs[i,0])\n",
    "X_test = np.array(X_test)\n",
    "Y_test = np.array(Y_test)\n",
    "\n",
    "X_test = np.reshape(X_test, (X_test.shape[0],X_test.shape[1],1))"
   ]
  },
  {
   "cell_type": "code",
   "execution_count": 19,
   "id": "floating-damage",
   "metadata": {},
   "outputs": [
    {
     "name": "stdout",
     "output_type": "stream",
     "text": [
      "Model: \"sequential_3\"\n",
      "_________________________________________________________________\n",
      "Layer (type)                 Output Shape              Param #   \n",
      "=================================================================\n",
      "lstm_3 (LSTM)                (None, 40)                6720      \n",
      "_________________________________________________________________\n",
      "dropout_3 (Dropout)          (None, 40)                0         \n",
      "_________________________________________________________________\n",
      "dense_3 (Dense)              (None, 1)                 41        \n",
      "=================================================================\n",
      "Total params: 6,761\n",
      "Trainable params: 6,761\n",
      "Non-trainable params: 0\n",
      "_________________________________________________________________\n",
      "Epoch 1/30\n",
      "1540/1540 - 11s - loss: 0.0070 - val_loss: 9.1289e-04\n",
      "Epoch 2/30\n",
      "1540/1540 - 9s - loss: 0.0028 - val_loss: 2.9205e-04\n",
      "Epoch 3/30\n",
      "1540/1540 - 9s - loss: 0.0020 - val_loss: 3.2419e-04\n",
      "Epoch 4/30\n",
      "1540/1540 - 9s - loss: 0.0018 - val_loss: 4.7367e-04\n",
      "Epoch 5/30\n",
      "1540/1540 - 9s - loss: 0.0015 - val_loss: 4.7571e-04\n",
      "Epoch 6/30\n",
      "1540/1540 - 11s - loss: 0.0013 - val_loss: 5.6034e-04\n",
      "Epoch 7/30\n",
      "1540/1540 - 9s - loss: 0.0010 - val_loss: 5.3143e-04\n",
      "Epoch 8/30\n",
      "1540/1540 - 9s - loss: 8.7215e-04 - val_loss: 0.0012\n",
      "Epoch 9/30\n",
      "1540/1540 - 9s - loss: 8.7772e-04 - val_loss: 3.6937e-04\n",
      "Epoch 10/30\n",
      "1540/1540 - 9s - loss: 8.6271e-04 - val_loss: 2.2256e-04\n",
      "Epoch 11/30\n",
      "1540/1540 - 9s - loss: 7.7327e-04 - val_loss: 3.8065e-04\n",
      "Epoch 12/30\n",
      "1540/1540 - 9s - loss: 7.5442e-04 - val_loss: 2.0828e-04\n",
      "Epoch 13/30\n",
      "1540/1540 - 9s - loss: 7.3502e-04 - val_loss: 4.6219e-04\n",
      "Epoch 14/30\n",
      "1540/1540 - 9s - loss: 7.7624e-04 - val_loss: 5.6892e-04\n",
      "Epoch 15/30\n",
      "1540/1540 - 9s - loss: 8.2599e-04 - val_loss: 1.4406e-04\n",
      "Epoch 16/30\n",
      "1540/1540 - 9s - loss: 6.8157e-04 - val_loss: 3.3853e-04\n",
      "Epoch 17/30\n",
      "1540/1540 - 9s - loss: 7.8136e-04 - val_loss: 0.0012\n",
      "Epoch 18/30\n",
      "1540/1540 - 9s - loss: 6.8770e-04 - val_loss: 1.6342e-04\n",
      "Epoch 19/30\n",
      "1540/1540 - 9s - loss: 7.2258e-04 - val_loss: 2.9198e-04\n",
      "Epoch 20/30\n",
      "1540/1540 - 9s - loss: 6.8035e-04 - val_loss: 2.0556e-04\n",
      "Epoch 21/30\n",
      "1540/1540 - 9s - loss: 6.7244e-04 - val_loss: 1.3119e-04\n",
      "Epoch 22/30\n",
      "1540/1540 - 9s - loss: 6.4681e-04 - val_loss: 1.7673e-04\n",
      "Epoch 23/30\n",
      "1540/1540 - 9s - loss: 6.4536e-04 - val_loss: 1.5120e-04\n",
      "Epoch 24/30\n",
      "1540/1540 - 9s - loss: 6.6576e-04 - val_loss: 3.2751e-04\n",
      "Epoch 25/30\n",
      "1540/1540 - 9s - loss: 6.3132e-04 - val_loss: 1.4423e-04\n",
      "Epoch 26/30\n",
      "1540/1540 - 9s - loss: 7.0428e-04 - val_loss: 1.9751e-04\n",
      "Epoch 27/30\n",
      "1540/1540 - 9s - loss: 6.5738e-04 - val_loss: 1.5394e-04\n",
      "Epoch 28/30\n",
      "1540/1540 - 9s - loss: 6.6807e-04 - val_loss: 6.9058e-04\n",
      "Epoch 29/30\n",
      "1540/1540 - 10s - loss: 6.6415e-04 - val_loss: 1.2609e-04\n",
      "Epoch 30/30\n",
      "1540/1540 - 10s - loss: 5.7486e-04 - val_loss: 1.9921e-04\n"
     ]
    }
   ],
   "source": [
    "#create and fit the LSTM network\n",
    "no_of_nodes = 40\n",
    "\n",
    "model = Sequential()\n",
    "model.add(LSTM(units=no_of_nodes, return_sequences=False, input_shape=(x_train.shape[1],1)))\n",
    "model.add(Dropout(0.2))\n",
    "#model.add(LSTM(units=no_of_nodes))\n",
    "#model.add(Dropout(0.2))\n",
    "model.add(Dense(1))\n",
    "model.summary()\n",
    "\n",
    "model.compile(loss='mean_squared_error', optimizer='adam')\n",
    "history = model.fit(x_train, y_train, validation_data=(X_test, Y_test), epochs=30, batch_size=1, verbose=2)\n",
    "\n"
   ]
  },
  {
   "cell_type": "code",
   "execution_count": 20,
   "id": "broadband-password",
   "metadata": {},
   "outputs": [
    {
     "name": "stdout",
     "output_type": "stream",
     "text": [
      "495.0812961151548\n"
     ]
    }
   ],
   "source": [
    "prediction = model.predict(X_test)\n",
    "prediction = scaler.inverse_transform(prediction)\n",
    "rms=np.sqrt(np.mean(np.power((valid-prediction),2)))\n",
    "print(rms)"
   ]
  },
  {
   "cell_type": "code",
   "execution_count": 21,
   "id": "cathedral-egyptian",
   "metadata": {},
   "outputs": [
    {
     "data": {
      "text/plain": [
       "<matplotlib.legend.Legend at 0x230435a6fa0>"
      ]
     },
     "execution_count": 21,
     "metadata": {},
     "output_type": "execute_result"
    },
    {
     "data": {
      "image/png": "[encoded data removed]",
      "text/plain": [
       "<Figure size 432x288 with 1 Axes>"
      ]
     },
     "metadata": {
      "needs_background": "light"
     },
     "output_type": "display_data"
    }
   ],
   "source": [
    "import matplotlib.pyplot as plt\n",
    "%matplotlib inline\n",
    "plt.plot(history.history['loss'], label='loss')\n",
    "plt.plot(history.history['val_loss'],label='val_loss')\n",
    "plt.legend()"
   ]
  },
  {
   "cell_type": "code",
   "execution_count": 22,
   "id": "muslim-trauma",
   "metadata": {},
   "outputs": [
    {
     "data": {
      "text/plain": [
       "<AxesSubplot:xlabel='datetime'>"
      ]
     },
     "execution_count": 22,
     "metadata": {},
     "output_type": "execute_result"
    },
    {
     "data": {
      "image/png": "[encoded data removed]",
      "text/plain": [
       "<Figure size 432x288 with 1 Axes>"
      ]
     },
     "metadata": {
      "needs_background": "light"
     },
     "output_type": "display_data"
    }
   ],
   "source": [
    "import matplotlib.dates as mdates\n",
    "\n",
    "valid_df = new_data[int(0.8*len(dataset)):]\n",
    "valid_df['prediction'] = prediction\n",
    "valid_df.plot(y=['prediction', 'close'])"
   ]
  }
 ],
 "metadata": {
  "kernelspec": {
   "display_name": "Python 3",
   "language": "python",
   "name": "python3"
  },
  "language_info": {
   "codemirror_mode": {
    "name": "ipython",
    "version": 3
   },
   "file_extension": ".py",
   "mimetype": "text/x-python",
   "name": "python",
   "nbconvert_exporter": "python",
   "pygments_lexer": "ipython3",
   "version": "3.8.6"
  }
 },
 "nbformat": 4,
 "nbformat_minor": 5
}
